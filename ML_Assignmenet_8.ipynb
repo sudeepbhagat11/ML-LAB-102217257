{
  "nbformat": 4,
  "nbformat_minor": 0,
  "metadata": {
    "colab": {
      "provenance": [],
      "gpuType": "T4",
      "include_colab_link": true
    },
    "kernelspec": {
      "name": "python3",
      "display_name": "Python 3"
    },
    "language_info": {
      "name": "python"
    },
    "accelerator": "GPU"
  },
  "cells": [
    {
      "cell_type": "markdown",
      "metadata": {
        "id": "view-in-github",
        "colab_type": "text"
      },
      "source": [
        "<a href=\"https://colab.research.google.com/github/sudeepbhagat11/ML-LAB-102217257/blob/main/ML_Assignmenet_8.ipynb\" target=\"_parent\"><img src=\"https://colab.research.google.com/assets/colab-badge.svg\" alt=\"Open In Colab\"/></a>"
      ]
    },
    {
      "cell_type": "markdown",
      "source": [
        "1. Find frequent patterns by implementing Apriori algorithm by using varying values of\n",
        "minimum support count on the dataset available at the following link\n",
        "https://www.philippe-fournier-viger.com/spmf/datasets/retail.txt\n",
        "\n",
        "  Note: Whole or some part of dataset can be used."
      ],
      "metadata": {
        "id": "jMxnzexQUXg4"
      }
    },
    {
      "cell_type": "code",
      "source": [
        "from google.colab import files"
      ],
      "metadata": {
        "id": "8MWjuJgnVhRI"
      },
      "execution_count": null,
      "outputs": []
    },
    {
      "cell_type": "code",
      "source": [
        "import pandas as pd\n",
        "\n",
        "# Load the file line by line into a list of lists\n",
        "file_path = '/content/retail.txt'\n",
        "with open(file_path, 'r') as file:\n",
        "    data = [line.strip().split() for line in file]\n",
        "\n",
        "# Convert to DataFrame and fill NaN for missing values in rows\n",
        "df = pd.DataFrame(data)\n",
        "df.to_csv('/content/retail.csv', index=False, header=False)\n",
        "print(\"File saved as retail.csv\")\n"
      ],
      "metadata": {
        "colab": {
          "base_uri": "https://localhost:8080/"
        },
        "id": "9WxXgg8QX1Ac",
        "outputId": "bdc3edd9-4ea0-401f-8e4c-2f1ad6ef1f18"
      },
      "execution_count": null,
      "outputs": [
        {
          "output_type": "stream",
          "name": "stdout",
          "text": [
            "File saved as retail.csv\n"
          ]
        }
      ]
    },
    {
      "cell_type": "code",
      "source": [
        "df=pd.read_csv('/content/retail.csv')"
      ],
      "metadata": {
        "id": "qlqV54rfYFJ_"
      },
      "execution_count": null,
      "outputs": []
    },
    {
      "cell_type": "code",
      "source": [
        "!pip install mlxtend"
      ],
      "metadata": {
        "colab": {
          "base_uri": "https://localhost:8080/"
        },
        "id": "Lk6JIsrdZ-u8",
        "outputId": "2ad2c866-3ebd-444b-9285-9587124e49cc"
      },
      "execution_count": null,
      "outputs": [
        {
          "output_type": "stream",
          "name": "stdout",
          "text": [
            "Requirement already satisfied: mlxtend in /usr/local/lib/python3.10/dist-packages (0.23.2)\n",
            "Requirement already satisfied: scipy>=1.2.1 in /usr/local/lib/python3.10/dist-packages (from mlxtend) (1.13.1)\n",
            "Requirement already satisfied: numpy>=1.16.2 in /usr/local/lib/python3.10/dist-packages (from mlxtend) (1.26.4)\n",
            "Requirement already satisfied: pandas>=0.24.2 in /usr/local/lib/python3.10/dist-packages (from mlxtend) (2.2.2)\n",
            "Requirement already satisfied: scikit-learn>=1.3.1 in /usr/local/lib/python3.10/dist-packages (from mlxtend) (1.5.2)\n",
            "Requirement already satisfied: matplotlib>=3.0.0 in /usr/local/lib/python3.10/dist-packages (from mlxtend) (3.8.0)\n",
            "Requirement already satisfied: joblib>=0.13.2 in /usr/local/lib/python3.10/dist-packages (from mlxtend) (1.4.2)\n",
            "Requirement already satisfied: contourpy>=1.0.1 in /usr/local/lib/python3.10/dist-packages (from matplotlib>=3.0.0->mlxtend) (1.3.0)\n",
            "Requirement already satisfied: cycler>=0.10 in /usr/local/lib/python3.10/dist-packages (from matplotlib>=3.0.0->mlxtend) (0.12.1)\n",
            "Requirement already satisfied: fonttools>=4.22.0 in /usr/local/lib/python3.10/dist-packages (from matplotlib>=3.0.0->mlxtend) (4.54.1)\n",
            "Requirement already satisfied: kiwisolver>=1.0.1 in /usr/local/lib/python3.10/dist-packages (from matplotlib>=3.0.0->mlxtend) (1.4.7)\n",
            "Requirement already satisfied: packaging>=20.0 in /usr/local/lib/python3.10/dist-packages (from matplotlib>=3.0.0->mlxtend) (24.2)\n",
            "Requirement already satisfied: pillow>=6.2.0 in /usr/local/lib/python3.10/dist-packages (from matplotlib>=3.0.0->mlxtend) (11.0.0)\n",
            "Requirement already satisfied: pyparsing>=2.3.1 in /usr/local/lib/python3.10/dist-packages (from matplotlib>=3.0.0->mlxtend) (3.2.0)\n",
            "Requirement already satisfied: python-dateutil>=2.7 in /usr/local/lib/python3.10/dist-packages (from matplotlib>=3.0.0->mlxtend) (2.8.2)\n",
            "Requirement already satisfied: pytz>=2020.1 in /usr/local/lib/python3.10/dist-packages (from pandas>=0.24.2->mlxtend) (2024.2)\n",
            "Requirement already satisfied: tzdata>=2022.7 in /usr/local/lib/python3.10/dist-packages (from pandas>=0.24.2->mlxtend) (2024.2)\n",
            "Requirement already satisfied: threadpoolctl>=3.1.0 in /usr/local/lib/python3.10/dist-packages (from scikit-learn>=1.3.1->mlxtend) (3.5.0)\n",
            "Requirement already satisfied: six>=1.5 in /usr/local/lib/python3.10/dist-packages (from python-dateutil>=2.7->matplotlib>=3.0.0->mlxtend) (1.16.0)\n"
          ]
        }
      ]
    },
    {
      "cell_type": "code",
      "source": [
        "transactions = df.applymap(str).values.tolist()"
      ],
      "metadata": {
        "colab": {
          "base_uri": "https://localhost:8080/"
        },
        "id": "lZNceb7XaHIP",
        "outputId": "77753755-4e20-4e72-fe6b-740c2da7be50"
      },
      "execution_count": null,
      "outputs": [
        {
          "output_type": "stream",
          "name": "stderr",
          "text": [
            "<ipython-input-3-59017fede084>:1: FutureWarning: DataFrame.applymap has been deprecated. Use DataFrame.map instead.\n",
            "  transactions = df.applymap(str).values.tolist()\n"
          ]
        }
      ]
    },
    {
      "cell_type": "code",
      "source": [
        "df.shape[0]"
      ],
      "metadata": {
        "colab": {
          "base_uri": "https://localhost:8080/"
        },
        "id": "D02u5UIadXi3",
        "outputId": "03ba8b77-ed5e-4d8b-b815-096b79e43b84"
      },
      "execution_count": null,
      "outputs": [
        {
          "output_type": "stream",
          "name": "stderr",
          "text": [
            "/usr/local/lib/python3.10/dist-packages/ipykernel/ipkernel.py:283: DeprecationWarning: `should_run_async` will not call `transform_cell` automatically in the future. Please pass the result to `transformed_cell` argument and any exception that happen during thetransform in `preprocessing_exc_tuple` in IPython 7.17 and above.\n",
            "  and should_run_async(code)\n"
          ]
        },
        {
          "output_type": "execute_result",
          "data": {
            "text/plain": [
              "88161"
            ]
          },
          "metadata": {},
          "execution_count": 8
        }
      ]
    },
    {
      "cell_type": "code",
      "source": [
        "from mlxtend.preprocessing import TransactionEncoder\n",
        "\n",
        "\n",
        "te = TransactionEncoder()\n",
        "te_ary = te.fit(transactions).transform(transactions)\n",
        "one_hot_df = pd.DataFrame(te_ary, columns=te.columns_)\n"
      ],
      "metadata": {
        "id": "y3N4rb-4aMqY"
      },
      "execution_count": null,
      "outputs": []
    },
    {
      "cell_type": "code",
      "source": [
        "one_hot_df.shape[0]"
      ],
      "metadata": {
        "colab": {
          "base_uri": "https://localhost:8080/"
        },
        "id": "x2reEKsedsiH",
        "outputId": "8db21d5d-fd00-4f09-f776-6655e853f902"
      },
      "execution_count": null,
      "outputs": [
        {
          "output_type": "stream",
          "name": "stderr",
          "text": [
            "/usr/local/lib/python3.10/dist-packages/ipykernel/ipkernel.py:283: DeprecationWarning: `should_run_async` will not call `transform_cell` automatically in the future. Please pass the result to `transformed_cell` argument and any exception that happen during thetransform in `preprocessing_exc_tuple` in IPython 7.17 and above.\n",
            "  and should_run_async(code)\n"
          ]
        },
        {
          "output_type": "execute_result",
          "data": {
            "text/plain": [
              "88161"
            ]
          },
          "metadata": {},
          "execution_count": 9
        }
      ]
    },
    {
      "cell_type": "code",
      "source": [
        "from mlxtend.frequent_patterns import apriori\n",
        "\n",
        "\n",
        "min_support = 0.01\n",
        "frequent_itemsets = apriori(one_hot_df, min_support=min_support, use_colnames=True)\n",
        "\n"
      ],
      "metadata": {
        "colab": {
          "base_uri": "https://localhost:8080/"
        },
        "id": "x1-3hkfJaWRV",
        "outputId": "aaaacf7a-b9e1-4351-fe12-4d2680c9c2ad"
      },
      "execution_count": null,
      "outputs": [
        {
          "output_type": "stream",
          "name": "stdout",
          "text": [
            "Frequent Itemsets:\n",
            "      support                       itemsets\n",
            "0    0.014916                           (10)\n",
            "1    0.012386                       (1005.0)\n",
            "2    0.023321                        (102.0)\n",
            "3    0.010004                      (10516.0)\n",
            "4    0.031420                        (111.0)\n",
            "..        ...                            ...\n",
            "290  0.011808        (nan, 49.0, 40.0, 90.0)\n",
            "291  0.012194    (33, 49.0, nan, 39.0, 40.0)\n",
            "292  0.015687    (33, 49.0, 42.0, nan, 40.0)\n",
            "293  0.011229    (49.0, 42.0, nan, 39, 40.0)\n",
            "294  0.011354  (49.0, 42.0, nan, 39.0, 40.0)\n",
            "\n",
            "[295 rows x 2 columns]\n"
          ]
        }
      ]
    },
    {
      "cell_type": "code",
      "source": [
        "frequent_itemsets.shape[0]"
      ],
      "metadata": {
        "colab": {
          "base_uri": "https://localhost:8080/"
        },
        "id": "L8thW6y4dzuT",
        "outputId": "470df548-eeae-411a-e05d-c3de8ddba59a"
      },
      "execution_count": null,
      "outputs": [
        {
          "output_type": "stream",
          "name": "stderr",
          "text": [
            "/usr/local/lib/python3.10/dist-packages/ipykernel/ipkernel.py:283: DeprecationWarning: `should_run_async` will not call `transform_cell` automatically in the future. Please pass the result to `transformed_cell` argument and any exception that happen during thetransform in `preprocessing_exc_tuple` in IPython 7.17 and above.\n",
            "  and should_run_async(code)\n"
          ]
        },
        {
          "output_type": "execute_result",
          "data": {
            "text/plain": [
              "295"
            ]
          },
          "metadata": {},
          "execution_count": 10
        }
      ]
    },
    {
      "cell_type": "code",
      "source": [
        "from mlxtend.frequent_patterns import association_rules\n",
        "num_itemsets = frequent_itemsets['itemsets'].nunique()\n",
        "\n",
        "min_confidence = 0.5\n",
        "rules = association_rules(frequent_itemsets,num_itemsets=num_itemsets, metric=\"confidence\", min_threshold=min_confidence)\n",
        "\n",
        "\n",
        "print(\"Association Rules:\")\n",
        "print(rules)\n"
      ],
      "metadata": {
        "colab": {
          "base_uri": "https://localhost:8080/"
        },
        "id": "6shR_QyEanIE",
        "outputId": "7b8d0047-f812-4eb5-d06c-8c6d4829a802"
      },
      "execution_count": null,
      "outputs": [
        {
          "output_type": "stream",
          "name": "stdout",
          "text": [
            "Association Rules:\n",
            "                 antecedents        consequents  antecedent support  \\\n",
            "0                       (10)              (nan)            0.014916   \n",
            "1                   (1005.0)              (nan)            0.012386   \n",
            "2                    (102.0)             (49.0)            0.023321   \n",
            "3                    (102.0)              (nan)            0.023321   \n",
            "4                  (10516.0)              (nan)            0.010004   \n",
            "..                       ...                ...                 ...   \n",
            "358  (42.0, 39.0, nan, 40.0)             (49.0)            0.016629   \n",
            "359       (42.0, 39.0, 49.0)        (nan, 40.0)            0.013328   \n",
            "360        (42.0, 39.0, nan)       (49.0, 40.0)            0.020848   \n",
            "361       (42.0, 39.0, 40.0)        (nan, 49.0)            0.016629   \n",
            "362             (42.0, 39.0)  (nan, 49.0, 40.0)            0.020848   \n",
            "\n",
            "     consequent support   support  confidence      lift  representativity  \\\n",
            "0              0.999989  0.014905    0.999240  0.999251               1.0   \n",
            "1              0.999989  0.012375    0.999084  0.999096               1.0   \n",
            "2              0.399644  0.013033    0.558852  1.398375               1.0   \n",
            "3              0.999989  0.023310    0.999514  0.999525               1.0   \n",
            "4              0.999989  0.010004    1.000000  1.000011               1.0   \n",
            "..                  ...       ...         ...       ...               ...   \n",
            "358            0.399644  0.011354    0.682810  1.708547               1.0   \n",
            "359            0.234117  0.011354    0.851915  3.638841               1.0   \n",
            "360            0.142342  0.011354    0.544614  3.826097               1.0   \n",
            "361            0.399644  0.011354    0.682810  1.708547               1.0   \n",
            "362            0.142342  0.011354    0.544614  3.826097               1.0   \n",
            "\n",
            "         leverage  conviction  zhangs_metric   jaccard  certainty  kulczynski  \n",
            "0   -1.117369e-05    0.014916      -0.000760  0.014905 -66.042586    0.507072  \n",
            "1   -1.120239e-05    0.012386      -0.000916  0.012375 -79.733516    0.505730  \n",
            "2    3.712892e-03    1.360896       0.291687  0.031793   0.265190    0.295732  \n",
            "3   -1.107836e-05    0.023321      -0.000486  0.023310 -41.879864    0.511412  \n",
            "4    1.134790e-07         inf       0.000011  0.010005   1.000000    0.505002  \n",
            "..            ...         ...            ...       ...        ...         ...  \n",
            "358  4.708682e-03    1.892736       0.421720  0.028041   0.471664    0.355611  \n",
            "359  8.233940e-03    5.171910       0.734983  0.048093   0.806648    0.450206  \n",
            "360  8.386653e-03    1.883364       0.754364  0.074780   0.469035    0.312191  \n",
            "361  4.708682e-03    1.892736       0.421720  0.028041   0.471664    0.355611  \n",
            "362  8.386653e-03    1.883364       0.754364  0.074780   0.469035    0.312191  \n",
            "\n",
            "[363 rows x 14 columns]\n"
          ]
        },
        {
          "output_type": "stream",
          "name": "stderr",
          "text": [
            "/usr/local/lib/python3.10/dist-packages/ipykernel/ipkernel.py:283: DeprecationWarning: `should_run_async` will not call `transform_cell` automatically in the future. Please pass the result to `transformed_cell` argument and any exception that happen during thetransform in `preprocessing_exc_tuple` in IPython 7.17 and above.\n",
            "  and should_run_async(code)\n"
          ]
        }
      ]
    },
    {
      "cell_type": "code",
      "source": [
        "!pip install --upgrade mlxtend"
      ],
      "metadata": {
        "colab": {
          "base_uri": "https://localhost:8080/"
        },
        "id": "E1VRPoIOa4rO",
        "outputId": "bd11621e-26f4-4fba-a414-998addc734d6"
      },
      "execution_count": null,
      "outputs": [
        {
          "output_type": "stream",
          "name": "stderr",
          "text": [
            "/usr/local/lib/python3.10/dist-packages/ipykernel/ipkernel.py:283: DeprecationWarning: `should_run_async` will not call `transform_cell` automatically in the future. Please pass the result to `transformed_cell` argument and any exception that happen during thetransform in `preprocessing_exc_tuple` in IPython 7.17 and above.\n",
            "  and should_run_async(code)\n"
          ]
        },
        {
          "output_type": "stream",
          "name": "stdout",
          "text": [
            "Requirement already satisfied: mlxtend in /usr/local/lib/python3.10/dist-packages (0.23.2)\n",
            "Requirement already satisfied: scipy>=1.2.1 in /usr/local/lib/python3.10/dist-packages (from mlxtend) (1.13.1)\n",
            "Requirement already satisfied: numpy>=1.16.2 in /usr/local/lib/python3.10/dist-packages (from mlxtend) (1.26.4)\n",
            "Requirement already satisfied: pandas>=0.24.2 in /usr/local/lib/python3.10/dist-packages (from mlxtend) (2.2.2)\n",
            "Requirement already satisfied: scikit-learn>=1.3.1 in /usr/local/lib/python3.10/dist-packages (from mlxtend) (1.5.2)\n",
            "Requirement already satisfied: matplotlib>=3.0.0 in /usr/local/lib/python3.10/dist-packages (from mlxtend) (3.8.0)\n",
            "Requirement already satisfied: joblib>=0.13.2 in /usr/local/lib/python3.10/dist-packages (from mlxtend) (1.4.2)\n",
            "Requirement already satisfied: contourpy>=1.0.1 in /usr/local/lib/python3.10/dist-packages (from matplotlib>=3.0.0->mlxtend) (1.3.0)\n",
            "Requirement already satisfied: cycler>=0.10 in /usr/local/lib/python3.10/dist-packages (from matplotlib>=3.0.0->mlxtend) (0.12.1)\n",
            "Requirement already satisfied: fonttools>=4.22.0 in /usr/local/lib/python3.10/dist-packages (from matplotlib>=3.0.0->mlxtend) (4.54.1)\n",
            "Requirement already satisfied: kiwisolver>=1.0.1 in /usr/local/lib/python3.10/dist-packages (from matplotlib>=3.0.0->mlxtend) (1.4.7)\n",
            "Requirement already satisfied: packaging>=20.0 in /usr/local/lib/python3.10/dist-packages (from matplotlib>=3.0.0->mlxtend) (24.2)\n",
            "Requirement already satisfied: pillow>=6.2.0 in /usr/local/lib/python3.10/dist-packages (from matplotlib>=3.0.0->mlxtend) (11.0.0)\n",
            "Requirement already satisfied: pyparsing>=2.3.1 in /usr/local/lib/python3.10/dist-packages (from matplotlib>=3.0.0->mlxtend) (3.2.0)\n",
            "Requirement already satisfied: python-dateutil>=2.7 in /usr/local/lib/python3.10/dist-packages (from matplotlib>=3.0.0->mlxtend) (2.8.2)\n",
            "Requirement already satisfied: pytz>=2020.1 in /usr/local/lib/python3.10/dist-packages (from pandas>=0.24.2->mlxtend) (2024.2)\n",
            "Requirement already satisfied: tzdata>=2022.7 in /usr/local/lib/python3.10/dist-packages (from pandas>=0.24.2->mlxtend) (2024.2)\n",
            "Requirement already satisfied: threadpoolctl>=3.1.0 in /usr/local/lib/python3.10/dist-packages (from scikit-learn>=1.3.1->mlxtend) (3.5.0)\n",
            "Requirement already satisfied: six>=1.5 in /usr/local/lib/python3.10/dist-packages (from python-dateutil>=2.7->matplotlib>=3.0.0->mlxtend) (1.16.0)\n"
          ]
        }
      ]
    },
    {
      "cell_type": "markdown",
      "source": [
        "2. Find associations rules by using varying values of minimum confidence values on the\n",
        "dataset available at the above mentioned link."
      ],
      "metadata": {
        "id": "m6QYLja4Uf0Y"
      }
    },
    {
      "cell_type": "code",
      "source": [],
      "metadata": {
        "id": "EpFdsvECUhNB"
      },
      "execution_count": null,
      "outputs": []
    },
    {
      "cell_type": "markdown",
      "source": [
        "3. Also plot the number of frequent patterns and association rules generated using\n",
        "different values of minimum support count and minimum confidence level,\n",
        "respectively, with the help of Matplotlib library."
      ],
      "metadata": {
        "id": "k15gPkqgUnjB"
      }
    },
    {
      "cell_type": "code",
      "source": [
        "import matplotlib.pyplot as plt\n",
        "from mlxtend.frequent_patterns import apriori, association_rules\n",
        "import pandas as pd\n",
        "\n",
        "# Assuming 'one_hot_df' is your one-hot encoded transaction DataFrame\n",
        "\n",
        "# List of minimum support values to test\n",
        "support_thresholds = [0.01, 0.05, 0.1, 0.2, 0.3]\n",
        "# List of minimum confidence values to test\n",
        "confidence_thresholds = [0.5, 0.6, 0.7, 0.8, 0.9]\n",
        "\n",
        "# Initialize lists to store the number of frequent itemsets and association rules\n",
        "num_frequent_itemsets = []\n",
        "num_association_rules = []\n",
        "\n",
        "# Loop over support thresholds and count the number of frequent itemsets\n",
        "for support in support_thresholds:\n",
        "    frequent_itemsets = apriori(one_hot_df, min_support=support, use_colnames=True)\n",
        "    num_frequent_itemsets.append(len(frequent_itemsets))\n",
        "\n",
        "# Loop over confidence thresholds and count the number of association rules\n",
        "for confidence in confidence_thresholds:\n",
        "    # First, find frequent itemsets with a minimum support threshold\n",
        "    frequent_itemsets = apriori(one_hot_df, min_support=0.05, use_colnames=True)\n",
        "    num_itemsets = frequent_itemsets['itemsets'].nunique()\n",
        "    # Generate association rules with the current confidence threshold\n",
        "    rules = association_rules(frequent_itemsets,num_itemsets=num_itemsets, metric=\"confidence\", min_threshold=confidence)\n",
        "    num_association_rules.append(len(rules))\n",
        "\n",
        "# Plotting the number of frequent itemsets vs. minimum support\n",
        "plt.figure(figsize=(12, 6))\n",
        "\n",
        "# Plot for frequent itemsets\n",
        "plt.subplot(1, 2, 1)\n",
        "plt.plot(support_thresholds, num_frequent_itemsets, marker='o', color='b', linestyle='-', markersize=8)\n",
        "plt.title('Number of Frequent Itemsets vs. Minimum Support')\n",
        "plt.xlabel('Minimum Support')\n",
        "plt.ylabel('Number of Frequent Itemsets')\n",
        "plt.grid(True)\n",
        "\n",
        "# Plot for association rules\n",
        "plt.subplot(1, 2, 2)\n",
        "plt.plot(confidence_thresholds, num_association_rules, marker='o', color='r', linestyle='-', markersize=8)\n",
        "plt.title('Number of Association Rules vs. Minimum Confidence')\n",
        "plt.xlabel('Minimum Confidence')\n",
        "plt.ylabel('Number of Association Rules')\n",
        "plt.grid(True)\n",
        "\n",
        "# Display the plots\n",
        "plt.tight_layout()\n",
        "plt.show()\n"
      ],
      "metadata": {
        "colab": {
          "base_uri": "https://localhost:8080/",
          "height": 404
        },
        "id": "LBgh1ASwUpgU",
        "outputId": "debb7556-12ac-4ac2-dea5-10a318479ff0"
      },
      "execution_count": null,
      "outputs": [
        {
          "output_type": "stream",
          "name": "stderr",
          "text": [
            "/usr/local/lib/python3.10/dist-packages/ipykernel/ipkernel.py:283: DeprecationWarning: `should_run_async` will not call `transform_cell` automatically in the future. Please pass the result to `transformed_cell` argument and any exception that happen during thetransform in `preprocessing_exc_tuple` in IPython 7.17 and above.\n",
            "  and should_run_async(code)\n"
          ]
        },
        {
          "output_type": "display_data",
          "data": {
            "text/plain": [
              "<Figure size 1200x600 with 2 Axes>"
            ],
            "image/png": "[encoded data removed]"
          },
          "metadata": {}
        }
      ]
    },
    {
      "cell_type": "code",
      "source": [],
      "metadata": {
        "id": "TRLvfZVCfaUY"
      },
      "execution_count": null,
      "outputs": []
    }
  ]
}