{
  "nbformat": 4,
  "nbformat_minor": 0,
  "metadata": {
    "colab": {
      "provenance": [],
      "authorship_tag": "ABX9TyOKrD2BfSdPe1fgqfmnbTye",
      "include_colab_link": true
    },
    "kernelspec": {
      "name": "python3",
      "display_name": "Python 3"
    },
    "language_info": {
      "name": "python"
    }
  },
  "cells": [
    {
      "cell_type": "markdown",
      "metadata": {
        "id": "view-in-github",
        "colab_type": "text"
      },
      "source": [
        "<a href=\"https://colab.research.google.com/github/sudeepbhagat11/ML-LAB-102217257/blob/main/ML_Assignment_1.ipynb\" target=\"_parent\"><img src=\"https://colab.research.google.com/assets/colab-badge.svg\" alt=\"Open In Colab\"/></a>"
      ]
    },
    {
      "cell_type": "markdown",
      "source": [
        "#  Q1 a)"
      ],
      "metadata": {
        "id": "f4wWLHgPkjWk"
      }
    },
    {
      "cell_type": "code",
      "execution_count": null,
      "metadata": {
        "id": "FBF93mYEgEv6"
      },
      "outputs": [],
      "source": [
        "import numpy as np\n",
        "\n",
        "arr = [1,2,3,6,5,4]"
      ]
    },
    {
      "cell_type": "code",
      "source": [
        "print(arr)"
      ],
      "metadata": {
        "colab": {
          "base_uri": "https://localhost:8080/"
        },
        "id": "xV3l8ggVkUSP",
        "outputId": "98d800ea-36e5-40e5-a6f4-513b87ce1baf"
      },
      "execution_count": null,
      "outputs": [
        {
          "output_type": "stream",
          "name": "stdout",
          "text": [
            "[1, 2, 3, 6, 5, 4]\n"
          ]
        }
      ]
    },
    {
      "cell_type": "code",
      "source": [
        "print(np.flip(arr))"
      ],
      "metadata": {
        "colab": {
          "base_uri": "https://localhost:8080/"
        },
        "id": "q_--RqUkkWAj",
        "outputId": "85b3ae31-7ff6-45c5-ad09-5d54feb53ccd"
      },
      "execution_count": null,
      "outputs": [
        {
          "output_type": "stream",
          "name": "stdout",
          "text": [
            "[4 5 6 3 2 1]\n"
          ]
        }
      ]
    },
    {
      "cell_type": "markdown",
      "source": [
        "#b)"
      ],
      "metadata": {
        "id": "rFeYEaeuknWa"
      }
    },
    {
      "cell_type": "code",
      "source": [
        "a = np.array([[1,2], [3,4]])"
      ],
      "metadata": {
        "id": "Po18w2xJkbEE"
      },
      "execution_count": null,
      "outputs": []
    },
    {
      "cell_type": "code",
      "source": [
        "a.flatten()"
      ],
      "metadata": {
        "colab": {
          "base_uri": "https://localhost:8080/"
        },
        "id": "P_yZMVACk39K",
        "outputId": "b0499b17-6277-4932-832d-7c24e44fd7d5"
      },
      "execution_count": null,
      "outputs": [
        {
          "output_type": "execute_result",
          "data": {
            "text/plain": [
              "array([1, 2, 3, 4])"
            ]
          },
          "metadata": {},
          "execution_count": 7
        }
      ]
    },
    {
      "cell_type": "markdown",
      "source": [
        "# Q1. c)"
      ],
      "metadata": {
        "id": "BsQrL4nPlVcx"
      }
    },
    {
      "cell_type": "code",
      "source": [
        "a = np.array([[1,2], [3,4]])\n",
        "b = np.array([[1,2],[3,4]])"
      ],
      "metadata": {
        "id": "YjaZ8qA8k9A9"
      },
      "execution_count": null,
      "outputs": []
    },
    {
      "cell_type": "code",
      "source": [
        "print(np.equal(a, b))\n",
        "# print(a==b)"
      ],
      "metadata": {
        "colab": {
          "base_uri": "https://localhost:8080/"
        },
        "id": "o9AsZcNQlkot",
        "outputId": "f3978103-e7f3-47bb-8873-aa051630b48f"
      },
      "execution_count": null,
      "outputs": [
        {
          "output_type": "stream",
          "name": "stdout",
          "text": [
            "[[ True  True]\n",
            " [ True  True]]\n"
          ]
        }
      ]
    },
    {
      "cell_type": "markdown",
      "source": [
        "# Q1. D)"
      ],
      "metadata": {
        "id": "iXdTqsictVQF"
      }
    },
    {
      "cell_type": "code",
      "source": [
        "x=np.array([1,2,3,4,5,1,2,1,1,1])\n",
        "y=np.array([1,1,1,2,3,4,2,4,3,3])"
      ],
      "metadata": {
        "id": "VGPevCeXlsJY"
      },
      "execution_count": null,
      "outputs": []
    },
    {
      "cell_type": "code",
      "source": [
        "counts = np.bincount(x)\n",
        "most_frequent_value = np.argmax(counts)\n",
        "indices = np.where(x == most_frequent_value)[0]\n",
        "\n"
      ],
      "metadata": {
        "id": "S_XFXBleng8S"
      },
      "execution_count": null,
      "outputs": []
    },
    {
      "cell_type": "code",
      "source": [
        "print(indices)\n",
        "print(most_frequent_value)"
      ],
      "metadata": {
        "colab": {
          "base_uri": "https://localhost:8080/"
        },
        "id": "eUGnpXQ6njVF",
        "outputId": "22d0bc31-114b-4878-9bcb-58bd01a8e8a7"
      },
      "execution_count": null,
      "outputs": [
        {
          "output_type": "stream",
          "name": "stdout",
          "text": [
            "[0 5 7 8 9]\n",
            "1\n"
          ]
        }
      ]
    },
    {
      "cell_type": "markdown",
      "source": [
        "# Q1. E)"
      ],
      "metadata": {
        "id": "GeaqhleztKKT"
      }
    },
    {
      "cell_type": "code",
      "source": [
        "gfg = np.matrix('[4, 1, 9; 12, 3, 1; 4, 5, 6]')"
      ],
      "metadata": {
        "id": "5GYrPdZknwYR"
      },
      "execution_count": null,
      "outputs": []
    },
    {
      "cell_type": "code",
      "source": [
        "np.sum(gfg)"
      ],
      "metadata": {
        "colab": {
          "base_uri": "https://localhost:8080/"
        },
        "id": "-22mAsc9pVDP",
        "outputId": "8e29f42f-8bb8-4f80-9aa0-61b1222c01e8"
      },
      "execution_count": null,
      "outputs": [
        {
          "output_type": "execute_result",
          "data": {
            "text/plain": [
              "45"
            ]
          },
          "metadata": {},
          "execution_count": 14
        }
      ]
    },
    {
      "cell_type": "code",
      "source": [
        "np.sum(gfg, axis=1)"
      ],
      "metadata": {
        "colab": {
          "base_uri": "https://localhost:8080/"
        },
        "id": "FW9ae-WaqECJ",
        "outputId": "02c5fad9-6081-434d-c041-9082696341ff"
      },
      "execution_count": null,
      "outputs": [
        {
          "output_type": "execute_result",
          "data": {
            "text/plain": [
              "matrix([[14],\n",
              "        [16],\n",
              "        [15]])"
            ]
          },
          "metadata": {},
          "execution_count": 15
        }
      ]
    },
    {
      "cell_type": "code",
      "source": [
        "np.sum(gfg, axis=0)"
      ],
      "metadata": {
        "colab": {
          "base_uri": "https://localhost:8080/"
        },
        "id": "pawPcLg5rD9-",
        "outputId": "3837ffe4-9004-4f87-b2f7-dbd512a9dd36"
      },
      "execution_count": null,
      "outputs": [
        {
          "output_type": "execute_result",
          "data": {
            "text/plain": [
              "matrix([[20,  9, 16]])"
            ]
          },
          "metadata": {},
          "execution_count": 16
        }
      ]
    },
    {
      "cell_type": "markdown",
      "source": [
        "# Q1. F)"
      ],
      "metadata": {
        "id": "E_FNYilDthzV"
      }
    },
    {
      "cell_type": "code",
      "source": [
        "n_array = np.array([[55, 25, 15],[30, 44, 2],[11, 45, 77]])\n",
        "print(np.diag(n_array))"
      ],
      "metadata": {
        "colab": {
          "base_uri": "https://localhost:8080/"
        },
        "id": "nX4F5uhyrLT-",
        "outputId": "0288d3e9-8e3c-4827-cc42-b8d3195865fe"
      },
      "execution_count": null,
      "outputs": [
        {
          "output_type": "stream",
          "name": "stdout",
          "text": [
            "[55 44 77]\n"
          ]
        }
      ]
    },
    {
      "cell_type": "code",
      "source": [
        "w, v = np.linalg.eig(n_array)"
      ],
      "metadata": {
        "id": "Sa6yph5nr5o9"
      },
      "execution_count": null,
      "outputs": []
    },
    {
      "cell_type": "code",
      "source": [
        "print('Eogen Values : ', w)\n",
        "print('Eigen Vectors : ', v)"
      ],
      "metadata": {
        "colab": {
          "base_uri": "https://localhost:8080/"
        },
        "id": "v0CZ-pySsLj9",
        "outputId": "17a30ac6-6315-43bb-80d4-9ac3a1aa70cd"
      },
      "execution_count": null,
      "outputs": [
        {
          "output_type": "stream",
          "name": "stdout",
          "text": [
            "Eogen Values :  [98.16835147 28.097044   49.73460452]\n",
            "Eigen Vectors :  [[ 0.4574917   0.34637121 -0.15017693]\n",
            " [ 0.28447814 -0.72784061 -0.4852124 ]\n",
            " [ 0.84248058  0.59184038  0.8614034 ]]\n"
          ]
        }
      ]
    },
    {
      "cell_type": "code",
      "source": [
        "print('Inverse Matrix is : ', np.linalg.inv(n_array) )"
      ],
      "metadata": {
        "colab": {
          "base_uri": "https://localhost:8080/"
        },
        "id": "-s_1dKgPsiu1",
        "outputId": "70429a7e-7210-450c-961e-05c85e19d70e"
      },
      "execution_count": null,
      "outputs": [
        {
          "output_type": "stream",
          "name": "stdout",
          "text": [
            "Inverse Matrix is :  [[ 0.02404141 -0.00911212 -0.00444671]\n",
            " [-0.01667882  0.02966905  0.0024785 ]\n",
            " [ 0.00631287 -0.01603732  0.01217379]]\n"
          ]
        }
      ]
    },
    {
      "cell_type": "code",
      "source": [
        "print('Determinant of Matrix is : ', np.linalg.det(n_array) )"
      ],
      "metadata": {
        "colab": {
          "base_uri": "https://localhost:8080/"
        },
        "id": "uLrE1qk-s2U8",
        "outputId": "e9a1ef0f-4de4-4a36-db7c-bc7e3568e3bc"
      },
      "execution_count": null,
      "outputs": [
        {
          "output_type": "stream",
          "name": "stdout",
          "text": [
            "Determinant of Matrix is :  137180.0000000001\n"
          ]
        }
      ]
    },
    {
      "cell_type": "markdown",
      "source": [
        "# Q1. G)"
      ],
      "metadata": {
        "id": "1YD-sbmotFJO"
      }
    },
    {
      "cell_type": "code",
      "source": [
        "p = np.array([[1, 2], [2, 3]])\n",
        "q = np.array([[4, 5], [6, 7]])\n",
        "\n",
        "print(np.dot(p, q))\n",
        "print(np.cov(p, q))"
      ],
      "metadata": {
        "colab": {
          "base_uri": "https://localhost:8080/"
        },
        "id": "wjD1_mEWtB9o",
        "outputId": "2a632c3b-1316-4334-add7-bd2a276d5e8f"
      },
      "execution_count": null,
      "outputs": [
        {
          "output_type": "stream",
          "name": "stdout",
          "text": [
            "[[16 19]\n",
            " [26 31]]\n",
            "[[0.5 0.5 0.5 0.5]\n",
            " [0.5 0.5 0.5 0.5]\n",
            " [0.5 0.5 0.5 0.5]\n",
            " [0.5 0.5 0.5 0.5]]\n"
          ]
        }
      ]
    },
    {
      "cell_type": "code",
      "source": [
        "p = np.array([[1, 2], [2, 3], [4,5]])\n",
        "q = np.array([[4, 5, 1], [6, 7, 2]])\n",
        "\n",
        "print(np.dot(p, q))"
      ],
      "metadata": {
        "colab": {
          "base_uri": "https://localhost:8080/"
        },
        "id": "nqS2oNnkuOrT",
        "outputId": "daacc2b3-27a1-4cba-b640-e6e5ea5e1c55"
      },
      "execution_count": null,
      "outputs": [
        {
          "output_type": "stream",
          "name": "stdout",
          "text": [
            "[[16 19  5]\n",
            " [26 31  8]\n",
            " [46 55 14]]\n"
          ]
        }
      ]
    },
    {
      "cell_type": "code",
      "source": [
        "# Flatten both arrays\n",
        "p_flat = p.flatten()\n",
        "q_flat = q.flatten()\n",
        "\n",
        "# Ensure they have the same length\n",
        "min_length = min(len(p_flat), len(q_flat))\n",
        "p_flat = p_flat[:min_length]\n",
        "q_flat = q_flat[:min_length]\n",
        "\n",
        "# Calculate the covariance\n",
        "cov_matrix = np.cov(p_flat, q_flat)\n",
        "print(\"Covariance matrix:\\n\", cov_matrix)\n",
        "\n"
      ],
      "metadata": {
        "colab": {
          "base_uri": "https://localhost:8080/"
        },
        "id": "cjSRcDkiuiTg",
        "outputId": "33e88d49-ea35-4e0a-f201-b6eca3e236bc"
      },
      "execution_count": null,
      "outputs": [
        {
          "output_type": "stream",
          "name": "stdout",
          "text": [
            "Covariance matrix:\n",
            " [[2.16666667 0.23333333]\n",
            " [0.23333333 5.36666667]]\n"
          ]
        }
      ]
    },
    {
      "cell_type": "code",
      "source": [
        "x = np.array([[2, 3, 4], [3,2,9]])\n",
        "y = np.array([[1,5,0], [5,10,3]])\n",
        "\n",
        "\n",
        "np.inner(x,y)\n"
      ],
      "metadata": {
        "colab": {
          "base_uri": "https://localhost:8080/"
        },
        "id": "tPpk0N1sup0w",
        "outputId": "2e4e3e29-ee68-4c7b-e506-3438ea7fc797"
      },
      "execution_count": null,
      "outputs": [
        {
          "output_type": "execute_result",
          "data": {
            "text/plain": [
              "array([[17, 52],\n",
              "       [13, 62]])"
            ]
          },
          "metadata": {},
          "execution_count": 25
        }
      ]
    },
    {
      "cell_type": "code",
      "source": [
        "np.outer(x,y)\n"
      ],
      "metadata": {
        "colab": {
          "base_uri": "https://localhost:8080/"
        },
        "id": "Mwfvrt3fwdnK",
        "outputId": "920afedc-db81-45cf-9419-28c26d7ae32e"
      },
      "execution_count": null,
      "outputs": [
        {
          "output_type": "execute_result",
          "data": {
            "text/plain": [
              "array([[ 2, 10,  0, 10, 20,  6],\n",
              "       [ 3, 15,  0, 15, 30,  9],\n",
              "       [ 4, 20,  0, 20, 40, 12],\n",
              "       [ 3, 15,  0, 15, 30,  9],\n",
              "       [ 2, 10,  0, 10, 20,  6],\n",
              "       [ 9, 45,  0, 45, 90, 27]])"
            ]
          },
          "metadata": {},
          "execution_count": 26
        }
      ]
    },
    {
      "cell_type": "code",
      "source": [
        "# Building the Cartesian product\n",
        "a_tiled = np.tile(x, (len(y), 1))\n",
        "b_repeated = np.repeat(y, len(x), axis=0)\n",
        "c = np.hstack((a_tiled, b_repeated))\n",
        "\n",
        "# Printing results\n",
        "print(c)"
      ],
      "metadata": {
        "colab": {
          "base_uri": "https://localhost:8080/"
        },
        "id": "xhBRb5jJxHKy",
        "outputId": "2a56ca3d-6213-4297-f0dc-13c552ce4663"
      },
      "execution_count": null,
      "outputs": [
        {
          "output_type": "stream",
          "name": "stdout",
          "text": [
            "[[ 2  3  4  1  5  0]\n",
            " [ 3  2  9  1  5  0]\n",
            " [ 2  3  4  5 10  3]\n",
            " [ 3  2  9  5 10  3]]\n"
          ]
        }
      ]
    },
    {
      "cell_type": "markdown",
      "source": [
        "# 2."
      ],
      "metadata": {
        "id": "HPmACH10a54p"
      }
    },
    {
      "cell_type": "code",
      "source": [
        "array = np.array([[1, -2, 3],[-4, 5, -6]])\n",
        "#i\n",
        "print(np.absolute(array))\n",
        "print('\\n')"
      ],
      "metadata": {
        "colab": {
          "base_uri": "https://localhost:8080/"
        },
        "id": "dmvq0bXRa4gJ",
        "outputId": "f4fcdde7-bbec-4498-eff0-0550ad7113b6"
      },
      "execution_count": null,
      "outputs": [
        {
          "output_type": "stream",
          "name": "stdout",
          "text": [
            "[[1 2 3]\n",
            " [4 5 6]]\n",
            "\n",
            "\n"
          ]
        }
      ]
    },
    {
      "cell_type": "code",
      "source": [
        "\n",
        "\n",
        "# ii)Find the 25th, 50th, and 75th percentile of flattened array, for each column, for each row.\n",
        "print(\"25th percentile of flattened array: \", np.percentile(array, 25))\n",
        "print(\"50th percentile of flattened array: \", np.percentile(array, 50))\n",
        "print(\"75th percentile of flattened array: \", np.percentile(array, 75))\n",
        "print('\\n')\n",
        "print(\"25th percentile of 1st column: \", np.percentile(array, 25, axis=0))\n",
        "print(\"50th percentile of 2nd column: \", np.percentile(array, 50, axis=0))\n",
        "print(\"75th percentile of 3rd  column: \", np.percentile(array, 75, axis=0))\n",
        "print('\\n')\n",
        "print(\"25th percentile of 1st row: \", np.percentile(array, 25, axis=1))\n",
        "print(\"50th percentile of 2nd row: \", np.percentile(array, 50, axis=1))\n",
        "print(\"75th percentile of 3rd row: \", np.percentile(array, 75, axis=1))\n"
      ],
      "metadata": {
        "colab": {
          "base_uri": "https://localhost:8080/"
        },
        "id": "vm8z9BsBbid3",
        "outputId": "0cb52d12-4e7f-4aa1-ec28-eb7b79836232"
      },
      "execution_count": null,
      "outputs": [
        {
          "output_type": "stream",
          "name": "stdout",
          "text": [
            "25th percentile of flattened array:  -3.5\n",
            "50th percentile of flattened array:  -0.5\n",
            "75th percentile of flattened array:  2.5\n",
            "\n",
            "\n",
            "25th percentile of 1st column:  [-2.75 -0.25 -3.75]\n",
            "50th percentile of 2nd column:  [-1.5  1.5 -1.5]\n",
            "75th percentile of 3rd  column:  [-0.25  3.25  0.75]\n",
            "\n",
            "\n",
            "25th percentile of 1st row:  [-0.5 -5. ]\n",
            "50th percentile of 2nd row:  [ 1. -4.]\n",
            "75th percentile of 3rd row:  [2.  0.5]\n"
          ]
        }
      ]
    },
    {
      "cell_type": "code",
      "source": [
        "#Mean, Median and Standard Deviation of flattened array, of each column, and each row\n",
        "\n",
        "print(\"Mean of flattened array: \", np.mean(array))\n",
        "print(\"Median of flattened array: \", np.median(array))\n",
        "print(\"Standard Deviation of flattened array: \", np.std(array))\n",
        "print('\\n')\n",
        "print(\"Mean of 1st column: \", np.mean(array,axis=0))\n",
        "print(\"Median of 2nd column: \", np.median(array,axis=0))\n",
        "print(\"Standard Deviation of 3rd  column: \", np.std(array, axis=0))\n",
        "print('\\n')\n",
        "print(\"Mean of 1st row: \", np.mean(array, axis=1))\n",
        "print(\"Median of 2nd row: \", np.median(array,axis=1))\n",
        "print(\"Standard Deviation of 3rd row: \", np.std(array,axis=1))\n",
        "\n"
      ],
      "metadata": {
        "colab": {
          "base_uri": "https://localhost:8080/"
        },
        "id": "lkkWIrM6boE0",
        "outputId": "42526953-2306-445c-e49a-49a592bcea3e"
      },
      "execution_count": null,
      "outputs": [
        {
          "output_type": "stream",
          "name": "stdout",
          "text": [
            "Mean of flattened array:  -0.5\n",
            "Median of flattened array:  -0.5\n",
            "Standard Deviation of flattened array:  3.8622100754188224\n",
            "\n",
            "\n",
            "Mean of 1st column:  [-1.5  1.5 -1.5]\n",
            "Median of 2nd column:  [-1.5  1.5 -1.5]\n",
            "Standard Deviation of 3rd  column:  [2.5 3.5 4.5]\n",
            "\n",
            "\n",
            "Mean of 1st row:  [ 0.66666667 -1.66666667]\n",
            "Median of 2nd row:  [ 1. -4.]\n",
            "Standard Deviation of 3rd row:  [2.05480467 4.78423336]\n"
          ]
        }
      ]
    },
    {
      "cell_type": "code",
      "source": [
        "# b.)\n",
        "a=np.array([-1.8, -1.6, -0.5, 0.5,1.6, 1.8, 3.0])\n",
        "print(np.floor(a))\n",
        "print('\\n')\n",
        "print(np.ceil(a))\n",
        "print('\\n')\n",
        "print(np.trunc(a))\n",
        "print('\\n')\n",
        "print(np.round(a))"
      ],
      "metadata": {
        "colab": {
          "base_uri": "https://localhost:8080/"
        },
        "id": "NhtCWYt7bsv1",
        "outputId": "c64562ef-aefc-4e90-ef1e-d078baf4155d"
      },
      "execution_count": null,
      "outputs": [
        {
          "output_type": "stream",
          "name": "stdout",
          "text": [
            "[-2. -2. -1.  0.  1.  1.  3.]\n",
            "\n",
            "\n",
            "[-1. -1. -0.  1.  2.  2.  3.]\n",
            "\n",
            "\n",
            "[-1. -1. -0.  0.  1.  1.  3.]\n",
            "\n",
            "\n",
            "[-2. -2. -0.  0.  2.  2.  3.]\n"
          ]
        }
      ]
    },
    {
      "cell_type": "markdown",
      "source": [
        "# 3."
      ],
      "metadata": {
        "id": "lyaS2xXPaT7q"
      }
    },
    {
      "cell_type": "code",
      "source": [
        "#i\n",
        "array = np.array([10, 52, 62, 16, 16, 54, 453])\n",
        "print(np.sort(array))"
      ],
      "metadata": {
        "id": "O4h8WVPIylSk",
        "colab": {
          "base_uri": "https://localhost:8080/"
        },
        "outputId": "b3113d11-a592-4081-cf2d-ef0f6b9415ab"
      },
      "execution_count": null,
      "outputs": [
        {
          "output_type": "stream",
          "name": "stdout",
          "text": [
            "[ 10  16  16  52  54  62 453]\n"
          ]
        }
      ]
    },
    {
      "cell_type": "code",
      "source": [
        "#ii\n",
        "print('The indices of sorted arry with respect to its original arry is:')\n",
        "print(np.argsort(array))"
      ],
      "metadata": {
        "colab": {
          "base_uri": "https://localhost:8080/"
        },
        "id": "6OZ5uQXrawZh",
        "outputId": "223b012e-9ea4-459f-9359-8ea6fa09f5ee"
      },
      "execution_count": null,
      "outputs": [
        {
          "output_type": "stream",
          "name": "stdout",
          "text": [
            "The indices of sorted arry with respect to its original arry is:\n",
            "[0 3 4 1 5 2 6]\n"
          ]
        }
      ]
    },
    {
      "cell_type": "code",
      "source": [
        "#iii\n",
        "print('Four smallest number are:')\n",
        "print(np.sort(array)[:4])"
      ],
      "metadata": {
        "colab": {
          "base_uri": "https://localhost:8080/"
        },
        "id": "aDLfsscWazgZ",
        "outputId": "eadee1b7-a12b-4671-d667-a73ec3cb0cf7"
      },
      "execution_count": null,
      "outputs": [
        {
          "output_type": "stream",
          "name": "stdout",
          "text": [
            "Four smallest number are:\n",
            "[10 16 16 52]\n"
          ]
        }
      ]
    },
    {
      "cell_type": "code",
      "source": [
        "#iv\n",
        "print('Five largest number in ascending order  are:')\n",
        "print(np.sort(array)[-5:])"
      ],
      "metadata": {
        "colab": {
          "base_uri": "https://localhost:8080/"
        },
        "id": "8xCeRxava1hY",
        "outputId": "9b0daa05-1b61-4277-d5aa-c81736c61121"
      },
      "execution_count": null,
      "outputs": [
        {
          "output_type": "stream",
          "name": "stdout",
          "text": [
            "Five largest number in ascending order  are:\n",
            "[ 16  52  54  62 453]\n"
          ]
        }
      ]
    },
    {
      "cell_type": "code",
      "source": [
        "#Q4\n",
        "import cv2\n",
        "import numpy as np\n",
        "\n",
        "def img_to_array(path):\n",
        "    image = cv2.imread(path)\n",
        "    if image is None:\n",
        "        print(\"Error: Image not found at the specified path.\")\n",
        "        return\n",
        "    if (len(image.shape) == 2):\n",
        "        image_type = 'grayscale'\n",
        "        array = image\n",
        "    else:\n",
        "        image_type = 'RGB'\n",
        "        array = image\n",
        "\n",
        "    array_str = np.array2string(array, separator=',', formatter={'float_kind': lambda x: \"%.2f\" % x})\n",
        "\n",
        "    if image_type == 'grayscale':\n",
        "        text_file_path = path.replace('.jpg', '_grayscale.txt').replace('.png', '_grayscale.txt')\n",
        "    else:\n",
        "        text_file_path = path.replace('.jpg', '_RGB.txt').replace('.png', '_RGB.txt')\n",
        "\n",
        "    with open(text_file_path, 'w') as file:\n",
        "        file.write(array_str)\n",
        "\n",
        "    print(f\"The {image_type} image has been saved as a text file at: {text_file_path}\")\n",
        "\n",
        "img_to_array(\"/content/ai.jpg\")\n"
      ],
      "metadata": {
        "id": "qFi1wZCAa3a7",
        "colab": {
          "base_uri": "https://localhost:8080/"
        },
        "outputId": "c0bc3594-2c42-4918-ba00-24e8aacfffb0"
      },
      "execution_count": 1,
      "outputs": [
        {
          "output_type": "stream",
          "name": "stdout",
          "text": [
            "The RGB image has been saved as a text file at: /content/ai_RGB.txt\n"
          ]
        }
      ]
    },
    {
      "cell_type": "code",
      "source": [
        "array = np.array([[1, -2, 3], [-4, 5, -6]])\n",
        "\n",
        "np.savetxt('array.txt', array, delimiter=',', fmt='%d')\n",
        "\n",
        "loaded_array = np.loadtxt('array.txt', delimiter=',')\n",
        "print(loaded_array)\n"
      ],
      "metadata": {
        "colab": {
          "base_uri": "https://localhost:8080/"
        },
        "id": "02BhmZXOqe6l",
        "outputId": "a388942c-4564-476c-ea56-a64f173d33d8"
      },
      "execution_count": 2,
      "outputs": [
        {
          "output_type": "stream",
          "name": "stdout",
          "text": [
            "[[ 1. -2.  3.]\n",
            " [-4.  5. -6.]]\n"
          ]
        }
      ]
    },
    {
      "cell_type": "code",
      "source": [],
      "metadata": {
        "id": "qRPXA1gsqt28"
      },
      "execution_count": null,
      "outputs": []
    }
  ]
}